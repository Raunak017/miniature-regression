{
 "cells": [
  {
   "cell_type": "code",
   "execution_count": 2,
   "metadata": {},
   "outputs": [
    {
     "name": "stdout",
     "output_type": "stream",
     "text": [
      "   instant    dteday  season  yr  mnth  holiday  weekday  workingday  \\\n",
      "0        1  1/1/2011       1   0     1        0        6           0   \n",
      "1        2  1/2/2011       1   0     1        0        0           0   \n",
      "2        3  1/3/2011       1   0     1        0        1           1   \n",
      "3        4  1/4/2011       1   0     1        0        2           1   \n",
      "4        5  1/5/2011       1   0     1        0        3           1   \n",
      "\n",
      "   weathersit      temp     atemp       hum  windspeed  rentals  day  \n",
      "0           2  0.344167  0.363625  0.805833   0.160446      331    1  \n",
      "1           2  0.363478  0.353739  0.696087   0.248539      131    2  \n",
      "2           1  0.196364  0.189405  0.437273   0.248309      120    3  \n",
      "3           1  0.200000  0.212122  0.590435   0.160296      108    4  \n",
      "4           1  0.226957  0.229270  0.436957   0.186900       82    5  \n",
      "Training Set: 511 rows\n",
      "Test Set: 220 rows\n"
     ]
    }
   ],
   "source": [
    "import pandas as pd\n",
    "import numpy as np\n",
    "from sklearn.linear_model import LinearRegression\n",
    "from sklearn.metrics import mean_squared_error, r2_score\n",
    "from sklearn.model_selection import train_test_split\n",
    "import urllib.request, urllib.parse, urllib.error\n",
    "import matplotlib.pyplot as plt\n",
    "%matplotlib inline\n",
    "\n",
    "# load the training dataset\n",
    "data = urllib.request.urlopen('https://raw.githubusercontent.com/MicrosoftDocs/mslearn-introduction-to-machine-learning/main/Data/ml-basics/daily-bike-share.csv')\n",
    "bike_data = pd.read_csv(data)\n",
    "bike_data['day'] = pd.DatetimeIndex(bike_data['dteday']).day\n",
    "numeric_features = ['temp','atemp','hum','windspeed']\n",
    "categorical_features = ['season','mnth','holiday','weekday','workingday','weathersit', 'day']\n",
    "bike_data[numeric_features + ['rentals']].describe()\n",
    "print(bike_data.head())\n",
    "\n",
    "#Separting feautres and labels\n",
    "X, y = bike_data[['season','mnth', 'holiday','weekday','workingday','weathersit','temp', 'atemp', 'hum', 'windspeed']].values, bike_data['rentals'].values\n",
    "\n",
    "# Splitting Data 70%-30% into training set and test set\n",
    "X_train, X_test, y_train, y_test = train_test_split(X, y, test_size=0.30, random_state=0)\n",
    "\n",
    "print ('Training Set: %d rows\\nTest Set: %d rows' % (X_train.shape[0], X_test.shape[0]))"
   ]
  },
  {
   "cell_type": "code",
   "execution_count": 3,
   "metadata": {},
   "outputs": [
    {
     "name": "stdout",
     "output_type": "stream",
     "text": [
      "GradientBoostingRegressor(alpha=0.9, ccp_alpha=0.0, criterion='friedman_mse',\n",
      "                          init=None, learning_rate=0.1, loss='ls', max_depth=3,\n",
      "                          max_features=None, max_leaf_nodes=None,\n",
      "                          min_impurity_decrease=0.0, min_impurity_split=None,\n",
      "                          min_samples_leaf=1, min_samples_split=2,\n",
      "                          min_weight_fraction_leaf=0.0, n_estimators=100,\n",
      "                          n_iter_no_change=None, presort='deprecated',\n",
      "                          random_state=None, subsample=1.0, tol=0.0001,\n",
      "                          validation_fraction=0.1, verbose=0, warm_start=False) \n",
      "\n",
      "MSE: 104023.08217843524\n",
      "RMSE: 322.526095344912\n",
      "R2: 0.7960692762567371\n"
     ]
    },
    {
     "data": {
      "image/png": "[encoded data removed]",
      "text/plain": [
       "<Figure size 432x288 with 1 Axes>"
      ]
     },
     "metadata": {
      "needs_background": "light"
     },
     "output_type": "display_data"
    }
   ],
   "source": [
    "#Training the Model\n",
    "from sklearn.ensemble import GradientBoostingRegressor, RandomForestRegressor\n",
    "\n",
    "#Fit a lasso model on training set\n",
    "model = GradientBoostingRegressor().fit(X_train, y_train)\n",
    "print(model, \"\\n\")\n",
    "\n",
    "#Evaluating the model using test data\n",
    "predictions = model.predict(X_test)\n",
    "mse = mean_squared_error(y_test, predictions)\n",
    "print('MSE:', mse)\n",
    "rmse = np.sqrt(mse)\n",
    "print('RMSE:', rmse)\n",
    "r2 = r2_score(y_test, predictions)\n",
    "print('R2:', r2)\n",
    "\n",
    "#Plotting predicted vs actual\n",
    "plt.scatter(y_test, predictions)\n",
    "plt.xlabel('Actual Labels')\n",
    "plt.ylabel('Predicted Labels')\n",
    "plt.title('Daily Bike Share Predictions')\n",
    "\n",
    "#overlay the regression line\n",
    "z = np.polyfit(y_test, predictions, 1)\n",
    "p = np.poly1d(z)\n",
    "plt.plot(y_test,p(y_test), color='magenta')\n",
    "plt.show()\n"
   ]
  },
  {
   "cell_type": "code",
   "execution_count": 5,
   "metadata": {
    "scrolled": false
   },
   "outputs": [
    {
     "name": "stdout",
     "output_type": "stream",
     "text": [
      "Best parameter combination: {'learning_rate': 0.1, 'n_estimators': 50} \n",
      "\n",
      "GradientBoostingRegressor(alpha=0.9, ccp_alpha=0.0, criterion='friedman_mse',\n",
      "                          init=None, learning_rate=0.1, loss='ls', max_depth=3,\n",
      "                          max_features=None, max_leaf_nodes=None,\n",
      "                          min_impurity_decrease=0.0, min_impurity_split=None,\n",
      "                          min_samples_leaf=1, min_samples_split=2,\n",
      "                          min_weight_fraction_leaf=0.0, n_estimators=50,\n",
      "                          n_iter_no_change=None, presort='deprecated',\n",
      "                          random_state=None, subsample=1.0, tol=0.0001,\n",
      "                          validation_fraction=0.1, verbose=0, warm_start=False) \n",
      "\n",
      "MSE: 109076.26035938137\n",
      "RMSE: 330.266953174824\n",
      "R2: 0.7861628375888619\n"
     ]
    },
    {
     "data": {
      "image/png": "[encoded data removed]",
      "text/plain": [
       "<Figure size 432x288 with 1 Axes>"
      ]
     },
     "metadata": {
      "needs_background": "light"
     },
     "output_type": "display_data"
    }
   ],
   "source": [
    "from sklearn.model_selection import GridSearchCV\n",
    "from sklearn.metrics import make_scorer, r2_score\n",
    "\n",
    "#Use a Gradient Boosting algo\n",
    "alg = GradientBoostingRegressor()\n",
    "\n",
    "#Trying hyperparameter values\n",
    "params = {\n",
    "    'learning_rate': [0.1, 0.5, 1.0],\n",
    "    'n_estimators': [50, 100, 150]\n",
    "}\n",
    "\n",
    "#Finding Best hyperparameter combination to optimize R2 metric\n",
    "score = make_scorer(r2_score)\n",
    "gridsearch = GridSearchCV(alg, params, scoring=score, cv=3, return_train_score=True)\n",
    "gridsearch.fit(X_train, y_train)\n",
    "print('Best parameter combination:', gridsearch.best_params_, '\\n')\n",
    "\n",
    "#Getting the best model\n",
    "model = gridsearch.best_estimator_\n",
    "print(model, '\\n')\n",
    "\n",
    "#Evaluating the model using test data\n",
    "predictions = model.predict(X_test)\n",
    "mse = mean_squared_error(y_test, predictions)\n",
    "print('MSE:', mse)\n",
    "rmse = np.sqrt(mse)\n",
    "print('RMSE:', rmse)\n",
    "r2 = r2_score(y_test, predictions)\n",
    "print('R2:', r2)\n",
    "\n",
    "#Plotting predicted vs actual\n",
    "plt.scatter(y_test, predictions)\n",
    "plt.xlabel('Actual Labels')\n",
    "plt.ylabel('Predicted Labels')\n",
    "plt.title('Daily Bike Share Predictions')\n",
    "\n",
    "# Overlaying the regression line\n",
    "z = np.polyfit(y_test, predictions, 1)\n",
    "p = np.poly1d(z)\n",
    "plt.plot(y_test, p(y_test), color='magenta')\n",
    "plt.show()\n",
    "\n",
    "\n",
    "\n"
   ]
  },
  {
   "cell_type": "code",
   "execution_count": 7,
   "metadata": {},
   "outputs": [
    {
     "name": "stdout",
     "output_type": "stream",
     "text": [
      "<http.client.HTTPResponse object at 0x00000167FF649508>\n",
      "Pipeline(memory=None,\n",
      "         steps=[('preprocessor',\n",
      "                 ColumnTransformer(n_jobs=None, remainder='drop',\n",
      "                                   sparse_threshold=0.3,\n",
      "                                   transformer_weights=None,\n",
      "                                   transformers=[('num',\n",
      "                                                  Pipeline(memory=None,\n",
      "                                                           steps=[('scaler',\n",
      "                                                                   StandardScaler(copy=True,\n",
      "                                                                                  with_mean=True,\n",
      "                                                                                  with_std=True))],\n",
      "                                                           verbose=False),\n",
      "                                                  [6, 7, 8, 9]),\n",
      "                                                 ('cat',\n",
      "                                                  Pipeline(memory=None,\n",
      "                                                           steps=[('onehot',\n",
      "                                                                   OneHotEncoder(categories='...\n",
      "                                           learning_rate=0.1, loss='ls',\n",
      "                                           max_depth=3, max_features=None,\n",
      "                                           max_leaf_nodes=None,\n",
      "                                           min_impurity_decrease=0.0,\n",
      "                                           min_impurity_split=None,\n",
      "                                           min_samples_leaf=1,\n",
      "                                           min_samples_split=2,\n",
      "                                           min_weight_fraction_leaf=0.0,\n",
      "                                           n_estimators=100,\n",
      "                                           n_iter_no_change=None,\n",
      "                                           presort='deprecated',\n",
      "                                           random_state=None, subsample=1.0,\n",
      "                                           tol=0.0001, validation_fraction=0.1,\n",
      "                                           verbose=0, warm_start=False))],\n",
      "         verbose=False)\n"
     ]
    }
   ],
   "source": [
    "# Preprocessing the data\n",
    "from sklearn.compose import ColumnTransformer\n",
    "from sklearn.pipeline import Pipeline\n",
    "from sklearn.impute import SimpleImputer\n",
    "from sklearn.preprocessing import StandardScaler, OneHotEncoder\n",
    "from sklearn.linear_model import LinearRegression\n",
    "import numpy as np\n",
    "\n",
    "# Defining preprocessing for numeric columns (scale them)\n",
    "numeric_features = [6,7,8,9]\n",
    "numeric_transformer = Pipeline(steps=[('scaler', StandardScaler())])\n",
    "\n",
    "# Defining preprocessing for categorical columns (encode them)\n",
    "categorical_features = [0,1,2,3,4,5]\n",
    "categorical_transformer = Pipeline(steps=[('onehot', OneHotEncoder(handle_unknown='ignore'))])\n",
    "\n",
    "#Combining preprocessing steps\n",
    "preprocessor = ColumnTransformer(transformers=[\n",
    "    ('num', numeric_transformer, numeric_features),\n",
    "    ('cat', categorical_transformer, categorical_features)])\n",
    "\n",
    "# Creating preprocessing and training Pipeline\n",
    "pipeline = Pipeline(steps=[('preprocessor', preprocessor),\n",
    "                          ('regressor', GradientBoostingRegressor())])\n",
    "\n",
    "#Fitting the pipeline to train a linear regression model on the training set\n",
    "model = pipeline.fit(X_train, (y_train))\n",
    "print(model)\n"
   ]
  },
  {
   "cell_type": "code",
   "execution_count": 11,
   "metadata": {},
   "outputs": [
    {
     "name": "stdout",
     "output_type": "stream",
     "text": [
      "MSE: 105010.56822838768\n",
      "RMSE: 324.05334164052016\n",
      "R2: 0.7941333718340269\n"
     ]
    },
    {
     "data": {
      "text/plain": [
       "<function matplotlib.pyplot.show(*args, **kw)>"
      ]
     },
     "execution_count": 11,
     "metadata": {},
     "output_type": "execute_result"
    },
    {
     "data": {
      "image/png": "[encoded data removed]",
      "text/plain": [
       "<Figure size 432x288 with 1 Axes>"
      ]
     },
     "metadata": {
      "needs_background": "light"
     },
     "output_type": "display_data"
    }
   ],
   "source": [
    "# Getting Predictions\n",
    "\n",
    "\n",
    "\n",
    "predictions = model.predict(X_test)\n",
    "\n",
    "# Display Metrics\n",
    "mse = mean_squared_error(y_test, predictions)\n",
    "print('MSE:', mse)\n",
    "rmse = np.sqrt(mse)\n",
    "print('RMSE:', rmse)\n",
    "r2 = r2_score(y_test, predictions)\n",
    "print('R2:', r2)\n",
    "\n",
    "# Plotting predicted vs actual\n",
    "plt.scatter(y_test, predictions)\n",
    "plt.xlabel('Actual Labels')\n",
    "plt.ylabel('Predicted Labels')\n",
    "plt.title('Daily Bike Share Predictions')\n",
    "z = np.polyfit(y_test, predictions, 1)\n",
    "p = np.poly1d(z)\n",
    "plt.plot(y_test,p(y_test), color='magenta')\n",
    "plt.show"
   ]
  },
  {
   "cell_type": "code",
   "execution_count": 12,
   "metadata": {
    "scrolled": false
   },
   "outputs": [
    {
     "name": "stdout",
     "output_type": "stream",
     "text": [
      "Pipeline(memory=None,\n",
      "         steps=[('preprocessor',\n",
      "                 ColumnTransformer(n_jobs=None, remainder='drop',\n",
      "                                   sparse_threshold=0.3,\n",
      "                                   transformer_weights=None,\n",
      "                                   transformers=[('num',\n",
      "                                                  Pipeline(memory=None,\n",
      "                                                           steps=[('scaler',\n",
      "                                                                   StandardScaler(copy=True,\n",
      "                                                                                  with_mean=True,\n",
      "                                                                                  with_std=True))],\n",
      "                                                           verbose=False),\n",
      "                                                  [6, 7, 8, 9]),\n",
      "                                                 ('cat',\n",
      "                                                  Pipeline(memory=None,\n",
      "                                                           steps=[('onehot',\n",
      "                                                                   OneHotEncoder(categories='...\n",
      "                 RandomForestRegressor(bootstrap=True, ccp_alpha=0.0,\n",
      "                                       criterion='mse', max_depth=None,\n",
      "                                       max_features='auto', max_leaf_nodes=None,\n",
      "                                       max_samples=None,\n",
      "                                       min_impurity_decrease=0.0,\n",
      "                                       min_impurity_split=None,\n",
      "                                       min_samples_leaf=1, min_samples_split=2,\n",
      "                                       min_weight_fraction_leaf=0.0,\n",
      "                                       n_estimators=100, n_jobs=None,\n",
      "                                       oob_score=False, random_state=None,\n",
      "                                       verbose=0, warm_start=False))],\n",
      "         verbose=False) \n",
      "\n",
      "MSE: 103008.26548045453\n",
      "RMSE: 320.9490076016041\n",
      "R2: 0.7980587606995356\n"
     ]
    },
    {
     "data": {
      "image/png": "[encoded data removed]",
      "text/plain": [
       "<Figure size 432x288 with 1 Axes>"
      ]
     },
     "metadata": {
      "needs_background": "light"
     },
     "output_type": "display_data"
    }
   ],
   "source": [
    "# Using a different Estimator in the pipeline\n",
    "pipeline = Pipeline(steps=[('preprocessor', preprocessor),\n",
    "                          ('regressor', RandomForestRegressor())])\n",
    "\n",
    "# Fit the pipeline to train a linear regression model on the training set\n",
    "model = pipeline.fit(X_train, (y_train))\n",
    "print(model, '\\n')\n",
    "\n",
    "# Get Predictions\n",
    "predictions = model.predict(X_test)\n",
    "\n",
    "# Display Metrics\n",
    "mse = mean_squared_error(y_test, predictions)\n",
    "print(\"MSE:\", mse)\n",
    "rmse = np.sqrt(mse)\n",
    "print(\"RMSE:\", rmse)\n",
    "r2 = r2_score(y_test, predictions)\n",
    "print(\"R2:\", r2)\n",
    "\n",
    "# Plotting predicted vs actual\n",
    "plt.scatter(y_test, predictions)\n",
    "plt.xlabel('Actual Labels')\n",
    "plt.ylabel('Predicted Labels')\n",
    "plt.title('Daily Bike Share Predictions - Preprocessed')\n",
    "z = np.polyfit(y_test, predictions, 1)\n",
    "p = np.poly1d(z)\n",
    "plt.plot(y_test,p(y_test), color='magenta')\n",
    "plt.show()"
   ]
  },
  {
   "cell_type": "code",
   "execution_count": 13,
   "metadata": {},
   "outputs": [
    {
     "data": {
      "text/plain": [
       "['./bike-share.pkl']"
      ]
     },
     "execution_count": 13,
     "metadata": {},
     "output_type": "execute_result"
    }
   ],
   "source": [
    "# Saving the model as a pickle file\n",
    "\n",
    "import joblib\n",
    "\n",
    "filename = './bike-share.pkl'\n",
    "joblib.dump(model, filename)"
   ]
  },
  {
   "cell_type": "code",
   "execution_count": 20,
   "metadata": {},
   "outputs": [
    {
     "name": "stdout",
     "output_type": "stream",
     "text": [
      "New Sample: [1.0, 1.0, 0.0, 3.0, 1.0, 1.0, 0.226957, 0.22927, 0.436957, 0.1869]\n",
      "Prediction: 101 rentals\n"
     ]
    }
   ],
   "source": [
    "# Loading the model from the file\n",
    "loaded_model = joblib.load(filename)\n",
    "\n",
    "# Create a numpy array containing a new observation (for example tomorrow's seasonal and weather forecast information)\n",
    "X_new = np.array([[1,1,0,3,1,1,0.226957,0.22927,0.436957,0.1869]]).astype('float64')\n",
    "print('New Sample: {}'.format(list(X_new[0])))\n",
    "\n",
    "# Use the model to predict tomorrow's rentals\n",
    "result = loaded_model.predict(X_new)\n",
    "print('Prediction: {:.0f} rentals'.format(np.round(result[0])))"
   ]
  },
  {
   "cell_type": "code",
   "execution_count": 22,
   "metadata": {},
   "outputs": [
    {
     "name": "stdout",
     "output_type": "stream",
     "text": [
      "5-day rental Predictions:\n",
      "576.0\n",
      "704.0\n",
      "237.0\n",
      "205.0\n",
      "265.0\n"
     ]
    }
   ],
   "source": [
    "# An Array of features based on five-day weather forecast\n",
    "X_new = np.array([[0,1,1,0,0,1,0.344167,0.363625,0.805833,0.160446],\n",
    "                  [0,1,0,1,0,1,0.363478,0.353739,0.696087,0.248539],\n",
    "                  [0,1,0,2,0,1,0.196364,0.189405,0.437273,0.248309],\n",
    "                  [0,1,0,3,0,1,0.2,0.212122,0.590435,0.160296],\n",
    "                  [0,1,0,4,0,1,0.226957,0.22927,0.436957,0.1869]])\n",
    "\n",
    "# Use the model to predict rentals\n",
    "results = loaded_model.predict(X_new)\n",
    "print('5-day rental Predictions:')\n",
    "for prediction in results:\n",
    "    print(np.round(prediction))"
   ]
  }
 ],
 "metadata": {
  "kernelspec": {
   "display_name": "Python 3",
   "language": "python",
   "name": "python3"
  },
  "language_info": {
   "codemirror_mode": {
    "name": "ipython",
    "version": 3
   },
   "file_extension": ".py",
   "mimetype": "text/x-python",
   "name": "python",
   "nbconvert_exporter": "python",
   "pygments_lexer": "ipython3",
   "version": "3.7.6"
  }
 },
 "nbformat": 4,
 "nbformat_minor": 4
}
